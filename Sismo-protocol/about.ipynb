{
  "nbformat": 4,
  "nbformat_minor": 0,
  "metadata": {
    "colab": {
      "provenance": [],
      "authorship_tag": "ABX9TyM7NvnpxeNbZfh65bACcXZ6",
      "include_colab_link": true
    },
    "kernelspec": {
      "name": "python3",
      "display_name": "Python 3"
    },
    "language_info": {
      "name": "python"
    }
  },
  "cells": [
    {
      "cell_type": "markdown",
      "metadata": {
        "id": "view-in-github",
        "colab_type": "text"
      },
      "source": [
        "<a href=\"https://colab.research.google.com/github/GinkGoPi/colab-models/blob/main/Sismo-protocol/about.ipynb\" target=\"_parent\"><img src=\"https://colab.research.google.com/assets/colab-badge.svg\" alt=\"Open In Colab\"/></a>"
      ]
    },
    {
      "cell_type": "markdown",
      "source": [
        "# Sismo protocol\n",
        "\n",
        "Sismo is a decentralized protocol that empowers digital identities and facilitates frictionless privacy-preserving logins on web3.  \n",
        "The protocol has three core components:\n",
        "- Sismo Badges — non-transferable/soulbound tokenized attestations \n",
        "- Sismo Vault — an encrypted privacy-preserving UX tool\n",
        "- Prove with Sismo — frictionless and privacy-preserving logins\n"
      ],
      "metadata": {
        "id": "muZGgDbIB89m"
      }
    },
    {
      "cell_type": "code",
      "execution_count": null,
      "metadata": {
        "id": "EtwosV8XB7J8"
      },
      "outputs": [],
      "source": []
    }
  ]
}